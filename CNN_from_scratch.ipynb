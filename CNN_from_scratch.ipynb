{
  "nbformat": 4,
  "nbformat_minor": 0,
  "metadata": {
    "colab": {
      "name": "Fashion_MNIST_CNN.ipynb",
      "provenance": [],
      "collapsed_sections": []
    },
    "kernelspec": {
      "name": "python3",
      "display_name": "Python 3"
    },
    "accelerator": "GPU"
  },
  "cells": [
    {
      "cell_type": "code",
      "metadata": {
        "id": "BJeATsesiZit",
        "colab_type": "code",
        "colab": {
          "base_uri": "https://localhost:8080/",
          "height": 765
        },
        "outputId": "16b691cc-8024-486d-9044-6483bd7841b5"
      },
      "source": [
        "!wget http://fashion-mnist.s3-website.eu-central-1.amazonaws.com/t10k-images-idx3-ubyte.gz\n",
        "!wget http://fashion-mnist.s3-website.eu-central-1.amazonaws.com/t10k-labels-idx1-ubyte.gz\n",
        "!wget http://fashion-mnist.s3-website.eu-central-1.amazonaws.com/train-images-idx3-ubyte.gz\n",
        "!wget http://fashion-mnist.s3-website.eu-central-1.amazonaws.com/train-labels-idx1-ubyte.gz"
      ],
      "execution_count": 1,
      "outputs": [
        {
          "output_type": "stream",
          "text": [
            "--2020-01-20 06:34:23--  http://fashion-mnist.s3-website.eu-central-1.amazonaws.com/t10k-images-idx3-ubyte.gz\n",
            "Resolving fashion-mnist.s3-website.eu-central-1.amazonaws.com (fashion-mnist.s3-website.eu-central-1.amazonaws.com)... 52.219.73.150\n",
            "Connecting to fashion-mnist.s3-website.eu-central-1.amazonaws.com (fashion-mnist.s3-website.eu-central-1.amazonaws.com)|52.219.73.150|:80... connected.\n",
            "HTTP request sent, awaiting response... 200 OK\n",
            "Length: 4422102 (4.2M) [binary/octet-stream]\n",
            "Saving to: ‘t10k-images-idx3-ubyte.gz.1’\n",
            "\n",
            "t10k-images-idx3-ub 100%[===================>]   4.22M  1.80MB/s    in 2.3s    \n",
            "\n",
            "2020-01-20 06:34:26 (1.80 MB/s) - ‘t10k-images-idx3-ubyte.gz.1’ saved [4422102/4422102]\n",
            "\n",
            "--2020-01-20 06:34:29--  http://fashion-mnist.s3-website.eu-central-1.amazonaws.com/t10k-labels-idx1-ubyte.gz\n",
            "Resolving fashion-mnist.s3-website.eu-central-1.amazonaws.com (fashion-mnist.s3-website.eu-central-1.amazonaws.com)... 52.219.74.78\n",
            "Connecting to fashion-mnist.s3-website.eu-central-1.amazonaws.com (fashion-mnist.s3-website.eu-central-1.amazonaws.com)|52.219.74.78|:80... connected.\n",
            "HTTP request sent, awaiting response... 200 OK\n",
            "Length: 5148 (5.0K) [binary/octet-stream]\n",
            "Saving to: ‘t10k-labels-idx1-ubyte.gz.1’\n",
            "\n",
            "t10k-labels-idx1-ub 100%[===================>]   5.03K  --.-KB/s    in 0s      \n",
            "\n",
            "2020-01-20 06:34:29 (812 MB/s) - ‘t10k-labels-idx1-ubyte.gz.1’ saved [5148/5148]\n",
            "\n",
            "--2020-01-20 06:34:31--  http://fashion-mnist.s3-website.eu-central-1.amazonaws.com/train-images-idx3-ubyte.gz\n",
            "Resolving fashion-mnist.s3-website.eu-central-1.amazonaws.com (fashion-mnist.s3-website.eu-central-1.amazonaws.com)... 52.219.74.78\n",
            "Connecting to fashion-mnist.s3-website.eu-central-1.amazonaws.com (fashion-mnist.s3-website.eu-central-1.amazonaws.com)|52.219.74.78|:80... connected.\n",
            "HTTP request sent, awaiting response... 200 OK\n",
            "Length: 26421880 (25M) [binary/octet-stream]\n",
            "Saving to: ‘train-images-idx3-ubyte.gz.1’\n",
            "\n",
            "train-images-idx3-u 100%[===================>]  25.20M  5.62MB/s    in 4.5s    \n",
            "\n",
            "2020-01-20 06:34:36 (5.62 MB/s) - ‘train-images-idx3-ubyte.gz.1’ saved [26421880/26421880]\n",
            "\n",
            "--2020-01-20 06:34:39--  http://fashion-mnist.s3-website.eu-central-1.amazonaws.com/train-labels-idx1-ubyte.gz\n",
            "Resolving fashion-mnist.s3-website.eu-central-1.amazonaws.com (fashion-mnist.s3-website.eu-central-1.amazonaws.com)... 52.219.75.40\n",
            "Connecting to fashion-mnist.s3-website.eu-central-1.amazonaws.com (fashion-mnist.s3-website.eu-central-1.amazonaws.com)|52.219.75.40|:80... connected.\n",
            "HTTP request sent, awaiting response... 200 OK\n",
            "Length: 29515 (29K) [binary/octet-stream]\n",
            "Saving to: ‘train-labels-idx1-ubyte.gz.1’\n",
            "\n",
            "train-labels-idx1-u 100%[===================>]  28.82K  99.0KB/s    in 0.3s    \n",
            "\n",
            "2020-01-20 06:34:40 (99.0 KB/s) - ‘train-labels-idx1-ubyte.gz.1’ saved [29515/29515]\n",
            "\n"
          ],
          "name": "stdout"
        }
      ]
    },
    {
      "cell_type": "code",
      "metadata": {
        "id": "svFaZkIZi_xy",
        "colab_type": "code",
        "outputId": "54cfdcce-3d60-46f2-ce4e-dacb67e0de59",
        "colab": {
          "base_uri": "https://localhost:8080/",
          "height": 68
        }
      },
      "source": [
        "!pip install idx2numpy"
      ],
      "execution_count": 2,
      "outputs": [
        {
          "output_type": "stream",
          "text": [
            "Requirement already satisfied: idx2numpy in /usr/local/lib/python3.6/dist-packages (1.2.2)\n",
            "Requirement already satisfied: six in /usr/local/lib/python3.6/dist-packages (from idx2numpy) (1.12.0)\n",
            "Requirement already satisfied: numpy in /usr/local/lib/python3.6/dist-packages (from idx2numpy) (1.17.5)\n"
          ],
          "name": "stdout"
        }
      ]
    },
    {
      "cell_type": "code",
      "metadata": {
        "id": "hlkY-g1fjfxr",
        "colab_type": "code",
        "outputId": "ddcd26d1-a023-430c-ee51-fc452f140f1f",
        "colab": {
          "base_uri": "https://localhost:8080/",
          "height": 34
        }
      },
      "source": [
        "import gzip, idx2numpy\n",
        "import numpy as np\n",
        "\n",
        "images_archive = gzip.open('train-images-idx3-ubyte.gz', 'r')\n",
        "labels_archive = gzip.open('train-labels-idx1-ubyte.gz', 'r')\n",
        "test_img_archive = gzip.open('t10k-images-idx3-ubyte.gz', 'r')\n",
        "test_lbl_archive = gzip.open('t10k-labels-idx1-ubyte.gz', 'r')\n",
        "\n",
        "images = idx2numpy.convert_from_file(images_archive)\n",
        "labels = idx2numpy.convert_from_file(labels_archive)\n",
        "test_images = idx2numpy.convert_from_file(test_img_archive)\n",
        "test_labels = idx2numpy.convert_from_file(test_lbl_archive)\n",
        "\n",
        "images.shape, labels.shape, test_images.shape, test_labels.shape"
      ],
      "execution_count": 3,
      "outputs": [
        {
          "output_type": "execute_result",
          "data": {
            "text/plain": [
              "((60000, 28, 28), (60000,), (10000, 28, 28), (10000,))"
            ]
          },
          "metadata": {
            "tags": []
          },
          "execution_count": 3
        }
      ]
    },
    {
      "cell_type": "code",
      "metadata": {
        "id": "I84MZQ8Njlc6",
        "colab_type": "code",
        "colab": {}
      },
      "source": [
        "import matplotlib.pyplot as plt\n",
        "\n",
        "def show_img(img, title=None, figsize=None, ax=None):\n",
        "  if not ax: fig,ax = plt.subplots(figsize=figsize)\n",
        "  if str(title): ax.set_title(title)\n",
        "  ax.imshow(img, cmap='gray')\n",
        "  ax.get_xaxis().set_visible(False)\n",
        "  ax.get_yaxis().set_visible(False)\n",
        "  return ax"
      ],
      "execution_count": 0,
      "outputs": []
    },
    {
      "cell_type": "code",
      "metadata": {
        "id": "bRFuEDwukRA1",
        "colab_type": "code",
        "outputId": "6dd78332-7314-4334-aeed-7458a3357027",
        "colab": {
          "base_uri": "https://localhost:8080/",
          "height": 585
        }
      },
      "source": [
        "fig, axes = plt.subplots(3, 4, figsize=(12,8))\n",
        "for i, ax in enumerate(axes.flat):\n",
        "  img = images[i]\n",
        "  label = labels[i]\n",
        "  ax = show_img(img, title=label, ax=ax)\n",
        "plt.tight_layout()"
      ],
      "execution_count": 5,
      "outputs": [
        {
          "output_type": "display_data",
          "data": {
            "image/png": "[encoded data removed]",
            "text/plain": [
              "<Figure size 864x576 with 12 Axes>"
            ]
          },
          "metadata": {
            "tags": []
          }
        }
      ]
    },
    {
      "cell_type": "code",
      "metadata": {
        "id": "S2eel5hClmBc",
        "colab_type": "code",
        "colab": {}
      },
      "source": [
        "X_train = images[:48000]\n",
        "Y_train = labels[:48000]\n",
        "X_val = images[48000:]\n",
        "Y_val = labels[48000:]"
      ],
      "execution_count": 0,
      "outputs": []
    },
    {
      "cell_type": "code",
      "metadata": {
        "id": "wSezQLeamUBB",
        "colab_type": "code",
        "colab": {}
      },
      "source": [
        "import torch\n",
        "import torch.nn as nn\n",
        "import torch.nn.functional as F\n",
        "from torch.utils.data import Dataset, DataLoader\n",
        "from sklearn.preprocessing import normalize\n",
        "device = 'cuda'"
      ],
      "execution_count": 0,
      "outputs": []
    },
    {
      "cell_type": "code",
      "metadata": {
        "id": "rlX74v65mYpK",
        "colab_type": "code",
        "colab": {}
      },
      "source": [
        "class FashionDataset(Dataset):\n",
        "  def __init__(self, X, Y):\n",
        "    self.X = X\n",
        "    self.Y = Y\n",
        "\n",
        "  def __len__(self):\n",
        "    return self.X.shape[0]\n",
        "\n",
        "  def __getitem__(self, i):\n",
        "    #load 2d array, normalize to 0-1 range, transform it to tensor\n",
        "    x = self.X[i]\n",
        "    x = normalize(x,axis=0)\n",
        "    x = torch.from_numpy(x)[None].float().to(device)\n",
        "    y = self.Y[i]\n",
        "    y = torch.Tensor([y]).long().to(device)\n",
        "    return (x, y)"
      ],
      "execution_count": 0,
      "outputs": []
    },
    {
      "cell_type": "code",
      "metadata": {
        "id": "fkHaEJhnoZbt",
        "colab_type": "code",
        "colab": {}
      },
      "source": [
        "train = FashionDataset(X_train, Y_train)\n",
        "val = FashionDataset(X_val, Y_val)\n",
        "test = FashionDataset(test_images, test_labels)"
      ],
      "execution_count": 0,
      "outputs": []
    },
    {
      "cell_type": "code",
      "metadata": {
        "id": "Y-4jSrSzrgdt",
        "colab_type": "code",
        "outputId": "3cae5643-24bf-4672-9560-8354457cdb23",
        "colab": {
          "base_uri": "https://localhost:8080/",
          "height": 585
        }
      },
      "source": [
        "fig, axes = plt.subplots(3, 4, figsize=(12,8))\n",
        "for i, ax in enumerate(axes.flat):\n",
        "  img, label = train[i]\n",
        "  img = img.cpu().detach().numpy()[0]\n",
        "  label = label.cpu().detach().numpy()[0]\n",
        "  ax = show_img(img, title=label, ax=ax)\n",
        "plt.tight_layout()"
      ],
      "execution_count": 10,
      "outputs": [
        {
          "output_type": "display_data",
          "data": {
            "image/png": "[encoded data removed]",
            "text/plain": [
              "<Figure size 864x576 with 12 Axes>"
            ]
          },
          "metadata": {
            "tags": []
          }
        }
      ]
    },
    {
      "cell_type": "code",
      "metadata": {
        "id": "2UxFRQ22r3FC",
        "colab_type": "code",
        "colab": {}
      },
      "source": [
        "class CNN(nn.Module):\n",
        "  def __init__(self):\n",
        "    super(CNN, self).__init__()\n",
        "    self.conv1 = nn.Conv2d(1, 6, 5)\n",
        "    self.conv2 = nn.Conv2d(6, 12, 5)\n",
        "\n",
        "    self.fc1 = nn.Linear(4800, 128)\n",
        "    self.fc2 = nn.Linear(128, 10)\n",
        "\n",
        "  def forward(self, x):\n",
        "    x = F.relu(self.conv1(x))\n",
        "    x = F.relu(self.conv2(x))\n",
        "    \n",
        "    x = x.view(-1, 4800)\n",
        "    x = F.relu(self.fc1(x))\n",
        "    x = self.fc2(x)\n",
        "    return x"
      ],
      "execution_count": 0,
      "outputs": []
    },
    {
      "cell_type": "code",
      "metadata": {
        "id": "wPzexFU-r6fx",
        "colab_type": "code",
        "colab": {}
      },
      "source": [
        "bs = 256\n",
        "\n",
        "train_loader = DataLoader(train, bs, True)\n",
        "val_loader = DataLoader(val, bs, True)\n",
        "test_loader = DataLoader(test, bs, True)\n",
        "\n",
        "model = CNN().cuda()\n",
        "optim = torch.optim.Adam(model.parameters(), lr=1e-2)\n",
        "criterion = nn.CrossEntropyLoss()"
      ],
      "execution_count": 0,
      "outputs": []
    },
    {
      "cell_type": "code",
      "metadata": {
        "id": "G0BeswHfud7m",
        "colab_type": "code",
        "outputId": "1d9f6678-6022-4ff9-8f27-3875618a84e3",
        "colab": {
          "base_uri": "https://localhost:8080/",
          "height": 306
        }
      },
      "source": [
        "from torchsummary import summary\n",
        "summary(model, (1, 28, 28))"
      ],
      "execution_count": 13,
      "outputs": [
        {
          "output_type": "stream",
          "text": [
            "----------------------------------------------------------------\n",
            "        Layer (type)               Output Shape         Param #\n",
            "================================================================\n",
            "            Conv2d-1            [-1, 6, 24, 24]             156\n",
            "            Conv2d-2           [-1, 12, 20, 20]           1,812\n",
            "            Linear-3                  [-1, 128]         614,528\n",
            "            Linear-4                   [-1, 10]           1,290\n",
            "================================================================\n",
            "Total params: 617,786\n",
            "Trainable params: 617,786\n",
            "Non-trainable params: 0\n",
            "----------------------------------------------------------------\n",
            "Input size (MB): 0.00\n",
            "Forward/backward pass size (MB): 0.06\n",
            "Params size (MB): 2.36\n",
            "Estimated Total Size (MB): 2.42\n",
            "----------------------------------------------------------------\n"
          ],
          "name": "stdout"
        }
      ]
    },
    {
      "cell_type": "code",
      "metadata": {
        "id": "owyDsojNu4Uy",
        "colab_type": "code",
        "colab": {}
      },
      "source": [
        "def train_model(model, n_epochs, lr, bs=bs):\n",
        "  optim.param_groups[0]['lr'] = lr\n",
        "\n",
        "  train_batches = len(train_loader)\n",
        "  len_train = train_batches*bs\n",
        "  val_batches = len(val_loader)\n",
        "  len_val = val_batches*bs\n",
        "\n",
        "  for epoch in range(n_epochs):\n",
        "    print(f'Epoch: {epoch+1}/{n_epochs}')\n",
        "\n",
        "    #train loop\n",
        "    model.train()\n",
        "    train_loss = 0\n",
        "    train_acc = 0\n",
        "    for i, (x, y) in enumerate(train_loader, 1):\n",
        "      y = y.squeeze(1)\n",
        "      optim.zero_grad()\n",
        "      pred = model(x)\n",
        "      loss = criterion(pred, y)\n",
        "      loss.backward()\n",
        "      optim.step()\n",
        "      train_loss += loss.item()\n",
        "      batch_acc = (torch.argmax(pred, -1)==y).sum().float()/y.shape[0]\n",
        "      train_acc += batch_acc\n",
        "      print(f'\\rTrain loss: {train_loss/i:.4f}; train acc: {train_acc/i:.4f}; batch: {i}/{train_batches}', end='')\n",
        "\n",
        "    #eval loop\n",
        "    print('')\n",
        "    model.eval()\n",
        "    val_loss = 0\n",
        "    val_acc = 0\n",
        "    for i, (x, y) in enumerate(val_loader, 1):\n",
        "      y = y.squeeze(1)\n",
        "      pred = model(x)\n",
        "      loss = criterion(pred, y)\n",
        "      val_loss += loss.item()\n",
        "      batch_acc = (torch.argmax(pred, -1)==y).sum().float()/y.shape[0]\n",
        "      val_acc += batch_acc\n",
        "      print(f'\\rVal loss: {val_loss/i:.4f}; val acc: {val_acc/i:.4f}; batch: {i}/{val_batches}', end='')\n",
        "    print('\\n')"
      ],
      "execution_count": 0,
      "outputs": []
    },
    {
      "cell_type": "code",
      "metadata": {
        "id": "Q_SbTKoW4n5k",
        "colab_type": "code",
        "outputId": "981a69ae-27cd-46a6-c8e6-6126eea70103",
        "colab": {
          "base_uri": "https://localhost:8080/",
          "height": 289
        }
      },
      "source": [
        "train_model(model, 4, 1e-2)"
      ],
      "execution_count": 16,
      "outputs": [
        {
          "output_type": "stream",
          "text": [
            "Epoch: 1/4\n",
            "Train loss: 0.5902; train acc: 0.7819; batch: 188/188\n",
            "Val loss: 0.3855; val acc: 0.8588; batch: 47/47\n",
            "\n",
            "Epoch: 2/4\n",
            "Train loss: 0.3372; train acc: 0.8756; batch: 188/188\n",
            "Val loss: 0.3206; val acc: 0.8827; batch: 47/47\n",
            "\n",
            "Epoch: 3/4\n",
            "Train loss: 0.2932; train acc: 0.8909; batch: 188/188\n",
            "Val loss: 0.3172; val acc: 0.8842; batch: 47/47\n",
            "\n",
            "Epoch: 4/4\n",
            "Train loss: 0.2569; train acc: 0.9030; batch: 188/188\n",
            "Val loss: 0.3131; val acc: 0.8852; batch: 47/47\n",
            "\n"
          ],
          "name": "stdout"
        }
      ]
    },
    {
      "cell_type": "code",
      "metadata": {
        "id": "FrVVj1d3qE6U",
        "colab_type": "code",
        "colab": {
          "base_uri": "https://localhost:8080/",
          "height": 289
        },
        "outputId": "077824d5-c0c6-4652-f2ad-7c3691d623cb"
      },
      "source": [
        "train_model(model, 4, 1e-4)"
      ],
      "execution_count": 17,
      "outputs": [
        {
          "output_type": "stream",
          "text": [
            "Epoch: 1/4\n",
            "Train loss: 0.2025; train acc: 0.9266; batch: 188/188\n",
            "Val loss: 0.2865; val acc: 0.8958; batch: 47/47\n",
            "\n",
            "Epoch: 2/4\n",
            "Train loss: 0.1886; train acc: 0.9309; batch: 188/188\n",
            "Val loss: 0.2846; val acc: 0.8969; batch: 47/47\n",
            "\n",
            "Epoch: 3/4\n",
            "Train loss: 0.1830; train acc: 0.9325; batch: 188/188\n",
            "Val loss: 0.2828; val acc: 0.8980; batch: 47/47\n",
            "\n",
            "Epoch: 4/4\n",
            "Train loss: 0.1793; train acc: 0.9333; batch: 188/188\n",
            "Val loss: 0.2823; val acc: 0.8983; batch: 47/47\n",
            "\n"
          ],
          "name": "stdout"
        }
      ]
    },
    {
      "cell_type": "code",
      "metadata": {
        "id": "5VQOaY2bqEts",
        "colab_type": "code",
        "colab": {
          "base_uri": "https://localhost:8080/",
          "height": 289
        },
        "outputId": "098ff541-5d03-4034-e038-ae3ef919ed6d"
      },
      "source": [
        "train_model(model, 4, 1e-5)"
      ],
      "execution_count": 18,
      "outputs": [
        {
          "output_type": "stream",
          "text": [
            "Epoch: 1/4\n",
            "Train loss: 0.1763; train acc: 0.9348; batch: 188/188\n",
            "Val loss: 0.2823; val acc: 0.8986; batch: 47/47\n",
            "\n",
            "Epoch: 2/4\n",
            "Train loss: 0.1757; train acc: 0.9350; batch: 188/188\n",
            "Val loss: 0.2822; val acc: 0.8987; batch: 47/47\n",
            "\n",
            "Epoch: 3/4\n",
            "Train loss: 0.1755; train acc: 0.9353; batch: 188/188\n",
            "Val loss: 0.2823; val acc: 0.8986; batch: 47/47\n",
            "\n",
            "Epoch: 4/4\n",
            "Train loss: 0.1751; train acc: 0.9354; batch: 188/188\n",
            "Val loss: 0.2819; val acc: 0.8988; batch: 47/47\n",
            "\n"
          ],
          "name": "stdout"
        }
      ]
    },
    {
      "cell_type": "code",
      "metadata": {
        "id": "fjcuPpeMgtyX",
        "colab_type": "code",
        "colab": {}
      },
      "source": [
        "import seaborn as sn\n",
        "from sklearn.metrics import confusion_matrix"
      ],
      "execution_count": 0,
      "outputs": []
    },
    {
      "cell_type": "code",
      "metadata": {
        "id": "t3FxbxXcE0WM",
        "colab_type": "code",
        "colab": {}
      },
      "source": [
        "def test_model(model):\n",
        "  \n",
        "  model.eval()\n",
        "  test_acc = 0\n",
        "  len_test = len(test_loader)\n",
        "  preds = torch.Tensor(0).to(device)\n",
        "  Ys = torch.LongTensor(0).to(device)\n",
        "  for i, (x, y) in enumerate(test_loader, 1):\n",
        "    y = y.squeeze(1)\n",
        "    pred = model(x)\n",
        "    preds = torch.cat((preds, torch.argmax(pred, -1).float()))\n",
        "    Ys = torch.cat((Ys, y))\n",
        "    print(f'\\rProcessing batch: {i}/{len_test}', end='')\n",
        "\n",
        "  test_acc = (preds==Ys).sum().float()/len(test_loader.dataset)\n",
        "  print(f'\\rTest accuracy: {test_acc:.4f}')\n",
        "\n",
        "  cm = confusion_matrix(preds.cpu(),Ys.cpu())\n",
        "  plt.figure(figsize=(12,9))\n",
        "  sn.heatmap(cm, annot=True, fmt='d')"
      ],
      "execution_count": 0,
      "outputs": []
    },
    {
      "cell_type": "code",
      "metadata": {
        "id": "zTqE2rZpe2vu",
        "colab_type": "code",
        "colab": {
          "base_uri": "https://localhost:8080/",
          "height": 554
        },
        "outputId": "aa0f2c83-abc5-496b-ac0d-d518d3a79f38"
      },
      "source": [
        "test_model(model)"
      ],
      "execution_count": 21,
      "outputs": [
        {
          "output_type": "stream",
          "text": [
            "Test accuracy: 0.8956\n"
          ],
          "name": "stdout"
        },
        {
          "output_type": "display_data",
          "data": {
            "image/png": "[encoded data removed]",
            "text/plain": [
              "<Figure size 864x648 with 2 Axes>"
            ]
          },
          "metadata": {
            "tags": []
          }
        }
      ]
    },
    {
      "cell_type": "code",
      "metadata": {
        "id": "ZAxdu6M9kQcy",
        "colab_type": "code",
        "colab": {}
      },
      "source": [
        ""
      ],
      "execution_count": 0,
      "outputs": []
    }
  ]
}